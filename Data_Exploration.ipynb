{
 "cells": [
  {
   "cell_type": "code",
   "execution_count": 11,
   "metadata": {},
   "outputs": [],
   "source": [
    "#basic imports\n",
    "import pandas as pd\n",
    "import matplotlib.pyplot as plt\n",
    "import numpy as np\n",
    "\n",
    "#!pip3 install xlrd"
   ]
  },
  {
   "cell_type": "code",
   "execution_count": 105,
   "metadata": {},
   "outputs": [
    {
     "name": "stdout",
     "output_type": "stream",
     "text": [
      "### RAW DATA ###\n",
      "  ++++++ NOT SHOWN DUE TO PRIVACY POLICIES   ++++++ \n"
     ]
    }
   ],
   "source": [
    "dat = pd.read_excel('../DS_NLP_Assignment/sentences_with_sentiment.xlsx')\n",
    "print('### RAW DATA ###')\n",
    "dat\n",
    "print('  ++++++ NOT SHOWN DUE TO PRIVACY POLICIES   ++++++ ')"
   ]
  },
  {
   "cell_type": "code",
   "execution_count": 104,
   "metadata": {},
   "outputs": [
    {
     "name": "stdout",
     "output_type": "stream",
     "text": [
      "  ++++++ NOT SHOWN DUE TO PRIVACY POLICIES   ++++++ \n"
     ]
    }
   ],
   "source": [
    "## enriching the data with some based side information\n",
    "num_words = [len(s.split()) for s in dat['Sentence']]\n",
    "dat['num_words'] = num_words\n",
    "\n",
    "\n",
    "class_names = ['Positive',  'Neutral', 'Negative']\n",
    "label_str = np.array(['          ' for a in range(len(dat))])\n",
    "for cl in class_names:\n",
    "    label_str[dat[cl]==1] = cl\n",
    "dat['label_str'] = label_str\n",
    "\n",
    "dat\n",
    "print('  ++++++ NOT SHOWN DUE TO PRIVACY POLICIES   ++++++ ')"
   ]
  },
  {
   "cell_type": "code",
   "execution_count": 70,
   "metadata": {},
   "outputs": [
    {
     "data": {
      "image/png": "[encoded data removed]",
      "text/plain": [
       "<Figure size 432x288 with 1 Axes>"
      ]
     },
     "metadata": {
      "needs_background": "light"
     },
     "output_type": "display_data"
    }
   ],
   "source": [
    "#assert that labels are one-hot encoded\n",
    "assert np.all((dat['Positive']+dat['Negative'] + dat['Neutral']) ==1)\n",
    "\n",
    "labels = dat[class_names].sum().plot(kind='bar', title='Label distribution')"
   ]
  },
  {
   "cell_type": "markdown",
   "metadata": {},
   "source": [
    "## Labels distribution is very unbalanced with Positive sentiment dominating"
   ]
  },
  {
   "cell_type": "code",
   "execution_count": 78,
   "metadata": {},
   "outputs": [
    {
     "data": {
      "text/plain": [
       "Text(0.5,1,'Lenghth of sentences, colored by class_label')"
      ]
     },
     "execution_count": 78,
     "metadata": {},
     "output_type": "execute_result"
    },
    {
     "data": {
      "image/png": "[encoded data removed]",
      "text/plain": [
       "<Figure size 1152x360 with 1 Axes>"
      ]
     },
     "metadata": {
      "needs_background": "light"
     },
     "output_type": "display_data"
    }
   ],
   "source": [
    "plt.figure(figsize=[16,5])\n",
    "for cl in class_names:\n",
    "    _d = dat[dat['label_str']== cl]\n",
    "    plt.bar(_d['ID'], _d['num_words'])\n",
    "plt.legend(class_names)\n",
    "plt.ylabel('number of words')\n",
    "plt.title('Lenghth of sentences, colored by class_label')\n"
   ]
  },
  {
   "cell_type": "markdown",
   "metadata": {},
   "source": [
    "## Findings from explorative data analysis: \n",
    "\n",
    "### Non-random order:\n",
    "There are some stong indications for a non-random order of the data, since we see that there are blocks of sentences with the class label - see between 180 and 200, were there is a block of negartive and neutral sentences. \n",
    "### Length of sentences is not indicative for sentiment\n",
    "As expected, the length of a sentence does not provide class-relevent information."
   ]
  },
  {
   "cell_type": "code",
   "execution_count": 102,
   "metadata": {},
   "outputs": [
    {
     "name": "stdout",
     "output_type": "stream",
     "text": [
      "  ++++++ NOT SHOWN DUE TO PRIVACY POLICIES   ++++++ \n"
     ]
    }
   ],
   "source": [
    "## investigating non-random order. Assumption is that neighboring sentences are from the same document\n",
    "\n",
    "# for i in range(180,200):\n",
    "#         print(i, ':   ', dat['Sentence'][i])\n",
    "\n",
    "print('  ++++++ NOT SHOWN DUE TO PRIVACY POLICIES   ++++++ ')"
   ]
  },
  {
   "cell_type": "markdown",
   "metadata": {},
   "source": [
    "## Data is non-IID\n",
    "The above excerpt of the sentences indicate that all these sentences are related as most of them contain the term  \"SMA\" (which is likely the abbrevation for \"spinal muscular atrophy\"). \n",
    "\n",
    "Moreover, the sentences with the IDs 186 and 188 both mention the specific abbrevation \"PAES\", which also indicate that those sentences are occuring in the same context\n",
    "\n",
    "\n",
    "## Problems due to non-IID samples\n",
    "\n",
    "Without knowing the origin of the sentences, it is not possible to split the data into valid training/validation and test sets. Certainly, splitting the data randomly will introduce a large bias. A chronological split may be more suitable, however sample size (i.e. number of unique documents) is unknown and it is expected to be very small (<15).\n"
   ]
  },
  {
   "cell_type": "markdown",
   "metadata": {},
   "source": [
    "# Loading data from pdf documents"
   ]
  },
  {
   "cell_type": "code",
   "execution_count": 107,
   "metadata": {},
   "outputs": [],
   "source": [
    "# here, we get text data from pdf documents and thereby extract unlabeled sentences \n",
    "\n",
    "def get_sentences_from_pdf(pdf_path):\n",
    "    os.system('pdftotext -f 3 {}'.format(pdf_path))\n",
    "    with open(pdf_path.replace('.pdf', '.txt')) as f:\n",
    "        text = f.read()\n",
    "    #reformat text: several newlines are also end-of sentence. This is important for Headers \n",
    "    text = text.replace('\\n\\n', '. ')\n",
    "    # remove remaining single-newlines\n",
    "    text = text.replace('\\n', ' ')\n",
    "    sentences = text.split('. ')\n",
    "    # remove sentences with less that 4 words\n",
    "    sentences = [s for s in sentences if len(s.split())>=4]\n",
    "    return sentences\n",
    "\n",
    "unlabeled_data = {}\n",
    "for filename in ['WC500057122.pdf', 'WC500135744.pdf']:\n",
    "    unlabeled_data[filename] = get_sentences_from_pdf('../DS_NLP_Assignment/{}'.format(filename))\n"
   ]
  }
 ],
 "metadata": {
  "kernelspec": {
   "display_name": "Python 3",
   "language": "python",
   "name": "python3"
  },
  "language_info": {
   "codemirror_mode": {
    "name": "ipython",
    "version": 3
   },
   "file_extension": ".py",
   "mimetype": "text/x-python",
   "name": "python",
   "nbconvert_exporter": "python",
   "pygments_lexer": "ipython3",
   "version": "3.5.2"
  }
 },
 "nbformat": 4,
 "nbformat_minor": 4
}
